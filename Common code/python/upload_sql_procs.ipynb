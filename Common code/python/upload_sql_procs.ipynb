{
 "cells": [
  {
   "cell_type": "markdown",
   "metadata": {},
   "source": [
    "<h1 style=\"color:pink;\">📊 SQL Proc uploading Script</h1>\n",
    "<h3 style=\"color:purple;\">This script involves: </h3>\n",
    "\n",
    "        🔍 Detecting & Handling Excel File Formats\n",
    "        🔐 Decrypting Encrypted Files\n",
    "        📐 Analyzing Workbook Structures\n",
    "        🔄 Consolidating Data into DataFrames"
   ]
  },
  {
   "cell_type": "markdown",
   "metadata": {},
   "source": [
    "========================================================================================================================="
   ]
  },
  {
   "cell_type": "markdown",
   "metadata": {},
   "source": [
    "    Code Viewing Settings"
   ]
  },
  {
   "cell_type": "code",
   "execution_count": null,
   "metadata": {},
   "outputs": [],
   "source": [
    "import pandas as pd\n",
    "import csv\n",
    "\n",
    "pd.set_option('display.max_columns', None)\n",
    "#pd.set_option('display.max_rows', None)\n",
    "#pd.set_option('display.max_colwidth', None)\n",
    "#pd.set_option('display.width', None)\n",
    "#np.set_printoptions(threshold=np.inf)\n",
    "#pd.set_option('display.float_format', lambda x: '%.5f' % x)"
   ]
  },
  {
   "cell_type": "markdown",
   "metadata": {},
   "source": [
    "========================================================================================================================="
   ]
  },
  {
   "cell_type": "markdown",
   "metadata": {},
   "source": [
    "    Upload sql procs to sql server"
   ]
  },
  {
   "cell_type": "code",
   "execution_count": null,
   "metadata": {},
   "outputs": [],
   "source": [
    "import pyodbc\n",
    "import os\n",
    "\n",
    "# SQL Server connection parameters\n",
    "server = ''  # Replace with your SQL Server name\n",
    "database = ''  # Replace with your database name\n",
    "trusted_connection = 'yes'  # Use Windows authentication\n",
    "\n",
    "# Directory containing the SQL procedure files\n",
    "sql_proc_directory = r''\n",
    "\n",
    "# Establish connection to SQL Server\n",
    "conn = pyodbc.connect('DRIVER={SQL Server};SERVER=' + server + ';DATABASE=' + database + ';Trusted_Connection=' + trusted_connection + ';')\n",
    "\n",
    "try:\n",
    "    cursor = conn.cursor()\n",
    "\n",
    "    # Iterate over all .sql files in the directory\n",
    "    for filename in os.listdir(sql_proc_directory):\n",
    "        if filename.endswith('.sql'):\n",
    "            filepath = os.path.join(sql_proc_directory, filename)\n",
    "            with open(filepath, 'r') as file:\n",
    "                sql_script = file.read()\n",
    "\n",
    "                # Upload the stored procedure to the database without executing it\n",
    "                cursor.execute(sql_script)\n",
    "                print(f\"Uploaded {filename} to {database}\")\n",
    "\n",
    "    # Commit changes\n",
    "    conn.commit()\n",
    "    print(\"All procedures uploaded successfully.\")\n",
    "\n",
    "except pyodbc.Error as e:\n",
    "    print(f\"Error uploading procedures: {str(e)}\")\n",
    "\n",
    "finally:\n",
    "    # Close the connection\n",
    "    conn.close()\n"
   ]
  },
  {
   "cell_type": "code",
   "execution_count": null,
   "metadata": {},
   "outputs": [],
   "source": [
    "pip install networkx"
   ]
  },
  {
   "cell_type": "code",
   "execution_count": null,
   "metadata": {},
   "outputs": [],
   "source": [
    "import pyodbc\n",
    "\n",
    "# Database connection setup\n",
    "server = ''\n",
    "database = ''\n",
    "connection_string = f'DRIVER={{ODBC Driver 17 for SQL Server}};SERVER={server};DATABASE={database};Trusted_Connection=yes;'\n",
    "\n",
    "# Function to execute SQL query and return results\n",
    "def execute_query(query):\n",
    "    try:\n",
    "        with pyodbc.connect(connection_string) as conn:\n",
    "            cursor = conn.cursor()\n",
    "            cursor.execute(query)\n",
    "            results = cursor.fetchall()\n",
    "            return results\n",
    "    except Exception as e:\n",
    "        print(f\"Error: {e}\")\n",
    "        return []\n",
    "\n",
    "# Query to get all stored procedures\n",
    "query = \"\"\"\n",
    "    SELECT name\n",
    "    FROM sys.procedures;\n",
    "\"\"\"\n",
    "\n",
    "# Fetch all stored procedures\n",
    "results = execute_query(query)\n",
    "\n",
    "# List all stored procedures\n",
    "print(\"List of stored procedures:\")\n",
    "for row in results:\n",
    "    print(row[0])\n"
   ]
  },
  {
   "cell_type": "code",
   "execution_count": null,
   "metadata": {},
   "outputs": [],
   "source": [
    "import pyodbc\n",
    "import re\n",
    "import networkx as nx\n",
    "import matplotlib.pyplot as plt\n",
    "\n",
    "# Database connection setup\n",
    "server = ''\n",
    "database = ''\n",
    "connection_string = f'DRIVER={{ODBC Driver 17 for SQL Server}};SERVER={server};DATABASE={database};Trusted_Connection=yes;'\n",
    "\n",
    "# Function to execute SQL query and return results\n",
    "def execute_query(query):\n",
    "    try:\n",
    "        with pyodbc.connect(connection_string) as conn:\n",
    "            cursor = conn.cursor()\n",
    "            cursor.execute(query)\n",
    "            results = cursor.fetchall()\n",
    "            return results\n",
    "    except Exception as e:\n",
    "        print(f\"Error: {e}\")\n",
    "        return []\n",
    "\n",
    "# Query to get all stored procedures and their definitions\n",
    "query = \"\"\"\n",
    "    SELECT \n",
    "        p.name AS proc_name,\n",
    "        m.definition AS proc_definition\n",
    "    FROM \n",
    "        sys.sql_modules AS m\n",
    "    INNER JOIN \n",
    "        sys.procedures AS p\n",
    "        ON m.object_id = p.object_id;\n",
    "\"\"\"\n",
    "\n",
    "# Fetch all stored procedures and their definitions\n",
    "results = execute_query(query)\n",
    "\n",
    "# List all stored procedures\n",
    "procedures = {}\n",
    "for row in results:\n",
    "    proc_name = row[0]\n",
    "    proc_definition = row[1]\n",
    "    procedures[proc_name] = proc_definition\n",
    "\n",
    "# Function to find procedure calls within a procedure's definition\n",
    "def find_proc_calls(proc_definition):\n",
    "    pattern = re.compile(r'\\bEXEC\\b\\s+(\\w+)', re.IGNORECASE)\n",
    "    return pattern.findall(proc_definition)\n",
    "\n",
    "# Create a directed graph to represent the relationships\n",
    "G = nx.DiGraph()\n",
    "\n",
    "# Add each procedure as a node\n",
    "for proc_name in procedures.keys():\n",
    "    G.add_node(proc_name)\n",
    "\n",
    "# Analyze each procedure to find calls to other procedures\n",
    "for proc_name, proc_definition in procedures.items():\n",
    "    called_procs = find_proc_calls(proc_definition)\n",
    "    for called_proc in called_procs:\n",
    "        if called_proc in procedures:  # Only consider calls to known procedures\n",
    "            G.add_edge(proc_name, called_proc)\n",
    "\n",
    "# Improved graph visualization\n",
    "plt.figure(figsize=(14, 10))\n",
    "pos = nx.spring_layout(G)  # Try using different layouts like circular_layout, shell_layout, kamada_kawai_layout\n",
    "\n",
    "# Draw nodes\n",
    "nx.draw_networkx_nodes(G, pos, node_size=3000, node_color='skyblue')\n",
    "\n",
    "# Draw edges\n",
    "nx.draw_networkx_edges(G, pos, edgelist=G.edges(), arrowstyle='->', arrowsize=20, edge_color='grey', width=2)\n",
    "\n",
    "# Draw labels\n",
    "nx.draw_networkx_labels(G, pos, font_size=12, font_family='sans-serif')\n",
    "\n",
    "# Add a title\n",
    "plt.title(\"Stored Procedures Relationship Graph\")\n",
    "\n",
    "# Remove axis\n",
    "plt.axis('off')\n",
    "\n",
    "# Show the plot\n",
    "plt.show()\n"
   ]
  },
  {
   "cell_type": "markdown",
   "metadata": {},
   "source": [
    "    The end"
   ]
  }
 ],
 "metadata": {
  "kernelspec": {
   "display_name": "Python 3 (ipykernel)",
   "language": "python",
   "name": "python3"
  },
  "language_info": {
   "codemirror_mode": {
    "name": "ipython",
    "version": 3
   },
   "file_extension": ".py",
   "mimetype": "text/x-python",
   "name": "python",
   "nbconvert_exporter": "python",
   "pygments_lexer": "ipython3",
   "version": "3.9.13"
  },
  "vscode": {
   "interpreter": {
    "hash": "d63edeb0bb6a36ca0e8532a90b8f233bbc40b90417812a1f62a872e672cb7196"
   }
  }
 },
 "nbformat": 4,
 "nbformat_minor": 4
}
